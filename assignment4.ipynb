{
 "cells": [
  {
   "cell_type": "code",
   "execution_count": 1,
   "id": "4a7fabab-99c6-44c0-bc25-c1b656e7c495",
   "metadata": {},
   "outputs": [],
   "source": [
    "# Example dictionary for product sales analysis\n",
    "sales_data = {\n",
    "    \"ProductID\": [101, 102, 103, 104, 105, 106, 107, 108, 109, 110],\n",
    "    \"ProductName\": [\"Laptop\", \"Mouse\", \"Keyboard\", \"Monitor\", \"Chair\", \"Desk\", \"Webcam\", \"Headphones\", \"Printer\", \"Tablet\"],\n",
    "    \"Category\": [\"Electronics\", \"Accessories\", \"Accessories\", \"Electronics\", \"Furniture\", \"Furniture\", \"Electronics\", \"Accessories\", \"Electronics\", \"Electronics\"],\n",
    "    \"PriceRange\": [\"High\", \"Low\", \"Low\", \"Medium\", \"Medium\", \"Medium\", \"Low\", \"Low\", \"Medium\", \"High\"],\n",
    "    \"StockAvailable\": [15, 100, 75, 20, 10, 8, 50, 60, 25, 12],\n",
    "}"
   ]
  },
  {
   "cell_type": "code",
   "execution_count": 2,
   "id": "3d1ebd49-6ba9-436c-be01-9abd23f20593",
   "metadata": {},
   "outputs": [
    {
     "name": "stdout",
     "output_type": "stream",
     "text": [
      "ProductID {101, 102, 103, 104, 105, 106, 107, 108, 109, 110},/n\n",
      "ProductName {'Monitor', 'Keyboard', 'Desk', 'Headphones', 'Chair', 'Webcam', 'Tablet', 'Mouse', 'Laptop', 'Printer'},/n\n",
      "Category {'Accessories', 'Electronics', 'Furniture'},/n\n",
      "PriceRange {'Low', 'Medium', 'High'},/n\n",
      "StockAvailable {100, 8, 10, 75, 12, 15, 50, 20, 25, 60},/n\n"
     ]
    }
   ],
   "source": [
    "for k,v in sales_data.items():\n",
    "    print(k,set(v), end =',')\n",
    "    print('/n')"
   ]
  },
  {
   "cell_type": "code",
   "execution_count": 3,
   "id": "f1917b12-47c9-45b2-87c4-36cdfb4782bb",
   "metadata": {},
   "outputs": [
    {
     "data": {
      "text/plain": [
       "{'Review1': {'WordCount': 14,\n",
       "  'UniqueWords': ['quality',\n",
       "   'delivery',\n",
       "   'prompt',\n",
       "   'functionality',\n",
       "   'is',\n",
       "   'the',\n",
       "   'was',\n",
       "   'versatile',\n",
       "   'product',\n",
       "   'and',\n",
       "   'excellent']},\n",
       " 'Review2': {'WordCount': 15,\n",
       "  'UniqueWords': ['have',\n",
       "   'good',\n",
       "   'could',\n",
       "   'but',\n",
       "   'been',\n",
       "   'customer',\n",
       "   'has',\n",
       "   'the',\n",
       "   'packaging',\n",
       "   'to',\n",
       "   'improve',\n",
       "   'service',\n",
       "   'better']},\n",
       " 'Review3': {'WordCount': 18,\n",
       "  'UniqueWords': ['not',\n",
       "   'but',\n",
       "   'as',\n",
       "   'very',\n",
       "   'fine',\n",
       "   'customer',\n",
       "   'i',\n",
       "   'rate',\n",
       "   'support',\n",
       "   'is',\n",
       "   'the',\n",
       "   'helpful',\n",
       "   'product',\n",
       "   'excellent',\n",
       "   'works']}}"
      ]
     },
     "execution_count": 3,
     "metadata": {},
     "output_type": "execute_result"
    }
   ],
   "source": [
    "# Original reviews dictionary\n",
    "reviews = {\n",
    "    \"Review1\": \"The product quality is excellent and delivery was prompt. The product functionality is versatile\",\n",
    "    \"Review2\": \"Good service but the packaging could have been better. The customer service has to improve\",\n",
    "    \"Review3\": \"The product works fine, but the customer support is not very helpful. I rate the product as excellent\",\n",
    "}\n",
    "\n",
    "# Result dictionary to store analysis of reviews\n",
    "review_analysis = {}\n",
    "\n",
    "# Process each review\n",
    "for key, review in reviews.items():\n",
    "    # Split the review into words\n",
    "    words = review.lower().replace('.', '').replace(',', '').split()\n",
    "    # Create a sub-dictionary with word count and unique words\n",
    "    review_analysis[key] = {\n",
    "        \"WordCount\": len(words),\n",
    "        \"UniqueWords\": list(set(words))\n",
    "    }\n",
    "\n",
    "review_analysis\n"
   ]
  },
  {
   "cell_type": "code",
   "execution_count": null,
   "id": "6e2079e3-334f-41a9-b6c3-378ae40e21fe",
   "metadata": {},
   "outputs": [],
   "source": []
  }
 ],
 "metadata": {
  "kernelspec": {
   "display_name": "Python 3 (ipykernel)",
   "language": "python",
   "name": "python3"
  },
  "language_info": {
   "codemirror_mode": {
    "name": "ipython",
    "version": 3
   },
   "file_extension": ".py",
   "mimetype": "text/x-python",
   "name": "python",
   "nbconvert_exporter": "python",
   "pygments_lexer": "ipython3",
   "version": "3.11.7"
  }
 },
 "nbformat": 4,
 "nbformat_minor": 5
}
