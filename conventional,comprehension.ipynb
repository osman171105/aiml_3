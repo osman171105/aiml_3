{
 "cells": [
  {
   "cell_type": "code",
   "execution_count": 4,
   "id": "3acd20bb-7231-4a9c-899a-5852aeeec245",
   "metadata": {},
   "outputs": [
    {
     "name": "stdout",
     "output_type": "stream",
     "text": [
      "even\n"
     ]
    }
   ],
   "source": [
    "num  = 996\n",
    "if num %2 ==0:\n",
    "    print(\"even\")\n",
    "else:\n",
    "    print(\"odd\")"
   ]
  },
  {
   "cell_type": "code",
   "execution_count": 5,
   "id": "6e728d1f-00d5-4aa2-b24b-48121303f929",
   "metadata": {},
   "outputs": [
    {
     "name": "stdout",
     "output_type": "stream",
     "text": [
      "even\n"
     ]
    }
   ],
   "source": [
    "num  = 996\n",
    "print(\"even\") if num %2 ==0 else print(\"odd\")"
   ]
  },
  {
   "cell_type": "code",
   "execution_count": 6,
   "id": "d8199bc2-8a06-4fdc-bd9b-fa5a56f0fac6",
   "metadata": {},
   "outputs": [
    {
     "name": "stdout",
     "output_type": "stream",
     "text": [
      "old\n"
     ]
    }
   ],
   "source": [
    "age = 98\n",
    "print(\"old\") if age>60 else print(\"young\")"
   ]
  },
  {
   "cell_type": "code",
   "execution_count": 12,
   "id": "4f2d99f7-7b2d-4488-9dc9-eefc9a17f70a",
   "metadata": {},
   "outputs": [
    {
     "name": "stdin",
     "output_type": "stream",
     "text": [
      "Enter a number:  -334.223\n"
     ]
    },
    {
     "data": {
      "text/plain": [
       "'Negative'"
      ]
     },
     "execution_count": 12,
     "metadata": {},
     "output_type": "execute_result"
    }
   ],
   "source": [
    "num = float(input(\"Enter a number: \"))\n",
    "result = \"Positive\" if num > 0 else(\"Negative\" if num<0 else\"Zero\")\n",
    "result"
   ]
  },
  {
   "cell_type": "code",
   "execution_count": 16,
   "id": "bb8eb7e1-7d6d-401e-9a83-28b6f1ac8d20",
   "metadata": {},
   "outputs": [
    {
     "data": {
      "text/plain": [
       "[3.0, 4.5, 6.0, 148.5, 4.5, 39.0]"
      ]
     },
     "execution_count": 16,
     "metadata": {},
     "output_type": "execute_result"
    }
   ],
   "source": [
    "l = [2,3,4,99,3,26]\n",
    "[1.5*x for x in l]"
   ]
  },
  {
   "cell_type": "code",
   "execution_count": 19,
   "id": "6b35f7f7-b86c-44b5-94bf-ca6b33796d81",
   "metadata": {},
   "outputs": [
    {
     "data": {
      "text/plain": [
       "[2, 4, 2, 66, 26]"
      ]
     },
     "execution_count": 19,
     "metadata": {},
     "output_type": "execute_result"
    }
   ],
   "source": [
    "l = [2,3,4,99,3,2,66,26]\n",
    "[x for x in l if x%2 ==0]"
   ]
  },
  {
   "cell_type": "code",
   "execution_count": 24,
   "id": "6b264443-f133-4028-8e3b-40380e38d2f2",
   "metadata": {},
   "outputs": [
    {
     "data": {
      "text/plain": [
       "[3, 99, 3]"
      ]
     },
     "execution_count": 24,
     "metadata": {},
     "output_type": "execute_result"
    }
   ],
   "source": [
    "l = [2,3,4,99,3,2,66,26]\n",
    "[x for x in l if x%2 !=0]"
   ]
  },
  {
   "cell_type": "code",
   "execution_count": 32,
   "id": "442a19a3-b517-4add-a2e4-544a1fc55e89",
   "metadata": {},
   "outputs": [
    {
     "data": {
      "text/plain": [
       "[48000.0, 80000, 60000, 54000.0]"
      ]
     },
     "execution_count": 32,
     "metadata": {},
     "output_type": "execute_result"
    }
   ],
   "source": [
    "salaries = [40000,80000,60000,45000]\n",
    "[(salary * 1.2 if salary <= 50000 else salary)for salary in salaries]\n"
   ]
  },
  {
   "cell_type": "code",
   "execution_count": 37,
   "id": "8c2b0b23-3f5b-4525-b18e-e75663fed7c1",
   "metadata": {},
   "outputs": [
    {
     "data": {
      "text/plain": [
       "{'Ram': [72, 71, 98, 100], 'John': [56, 98, 67, 65]}"
      ]
     },
     "execution_count": 37,
     "metadata": {},
     "output_type": "execute_result"
    }
   ],
   "source": [
    "d1 = {'Ram':[72,71,98,100], 'John':[56,98,67,65]}\n",
    "d1"
   ]
  },
  {
   "cell_type": "code",
   "execution_count": 2,
   "id": "7283df37-1732-4067-9172-3e64f09105e1",
   "metadata": {},
   "outputs": [
    {
     "data": {
      "text/plain": [
       "{'Ram': 85.25, 'John': 71.5}"
      ]
     },
     "execution_count": 2,
     "metadata": {},
     "output_type": "execute_result"
    }
   ],
   "source": [
    "d1 = {'Ram':[72,71,98,100], 'John':[56,98,67,65]}\n",
    "\n",
    "{k: sum(v)/len(v)for k,v in d1.items()}\n"
   ]
  },
  {
   "cell_type": "code",
   "execution_count": 4,
   "id": "a711cc49-4eb1-4b9c-8760-450bedcba060",
   "metadata": {},
   "outputs": [
    {
     "data": {
      "text/plain": [
       "5.5"
      ]
     },
     "execution_count": 4,
     "metadata": {},
     "output_type": "execute_result"
    }
   ],
   "source": [
    "def mean_value(given_list):\n",
    "    tot = sum(given_list)\n",
    "    avg = tot/len(given_list)\n",
    "    return avg\n",
    "L = [1,2,3,4,5,6,7,8,9,10]\n",
    "mean_value(L)"
   ]
  },
  {
   "cell_type": "code",
   "execution_count": 15,
   "id": "5069eeaf-9ce0-45c6-837b-b5b42d2d0d19",
   "metadata": {},
   "outputs": [
    {
     "name": "stdout",
     "output_type": "stream",
     "text": [
      "Good Morning, osman!\n"
     ]
    }
   ],
   "source": [
    "def greet(osman = \"osman\"):\n",
    "    print(f\"Good Morning, {osman}!\")\n",
    "greet()"
   ]
  },
  {
   "cell_type": "code",
   "execution_count": 21,
   "id": "a61e75d2-3690-4ac8-8c4d-dc5a1ae6acb0",
   "metadata": {},
   "outputs": [],
   "source": [
    "def avg_value(*n):\n",
    "    l = len (n)\n",
    "    avg = sum(n)/l\n",
    "    return avg"
   ]
  },
  {
   "cell_type": "code",
   "execution_count": 22,
   "id": "d1bb6916-03af-4213-ad95-0ff078fcaaa2",
   "metadata": {},
   "outputs": [
    {
     "data": {
      "text/plain": [
       "87.875"
      ]
     },
     "execution_count": 22,
     "metadata": {},
     "output_type": "execute_result"
    }
   ],
   "source": [
    "avg_value(2,43,4,5,322,4,5,567,5,3,346,56,3,6,5,3,3,456,32,5,87,54,86,7)"
   ]
  },
  {
   "cell_type": "code",
   "execution_count": null,
   "id": "d4791f9e-8aa6-4736-965c-31536a34ca30",
   "metadata": {},
   "outputs": [],
   "source": []
  }
 ],
 "metadata": {
  "kernelspec": {
   "display_name": "Python 3 (ipykernel)",
   "language": "python",
   "name": "python3"
  },
  "language_info": {
   "codemirror_mode": {
    "name": "ipython",
    "version": 3
   },
   "file_extension": ".py",
   "mimetype": "text/x-python",
   "name": "python",
   "nbconvert_exporter": "python",
   "pygments_lexer": "ipython3",
   "version": "3.11.7"
  }
 },
 "nbformat": 4,
 "nbformat_minor": 5
}
