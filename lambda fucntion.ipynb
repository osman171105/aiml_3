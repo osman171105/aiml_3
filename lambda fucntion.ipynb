{
 "cells": [
  {
   "cell_type": "code",
   "execution_count": 5,
   "id": "b0f46e04-d69b-43f4-a029-a45c623602f6",
   "metadata": {},
   "outputs": [
    {
     "name": "stdout",
     "output_type": "stream",
     "text": [
      "Good morning osman !\n"
     ]
    }
   ],
   "source": [
    "greet = lambda name: print(f\"Good morning {name} !\")\n",
    "greet (\"osman\")"
   ]
  },
  {
   "cell_type": "code",
   "execution_count": 15,
   "id": "f2e5596b-5abe-4cae-8deb-dda202a24dc9",
   "metadata": {},
   "outputs": [
    {
     "data": {
      "text/plain": [
       "8"
      ]
     },
     "execution_count": 15,
     "metadata": {},
     "output_type": "execute_result"
    }
   ],
   "source": [
    "#a = int x,y,z\n",
    "#e = x*y*z\n",
    "d = lambda a,b,c: a*b*c#: print(f\" numbers product are: {e} \")\n",
    "d(1,2,4)\n"
   ]
  },
  {
   "cell_type": "code",
   "execution_count": 16,
   "id": "37ac7a93-9330-49a9-b483-a2b52691cce7",
   "metadata": {},
   "outputs": [
    {
     "data": {
      "text/plain": [
       "[434, 4, 4]"
      ]
     },
     "execution_count": 16,
     "metadata": {},
     "output_type": "execute_result"
    }
   ],
   "source": [
    "even = lambda L : [x for x in L if x%2 == 0]\n",
    "list = [1,3,5,434,7,4,79,4,345]\n",
    "even(list)"
   ]
  },
  {
   "cell_type": "code",
   "execution_count": null,
   "id": "2d9d0821-c46a-440c-824e-a7a1bd6acbd5",
   "metadata": {},
   "outputs": [],
   "source": []
  }
 ],
 "metadata": {
  "kernelspec": {
   "display_name": "Python 3 (ipykernel)",
   "language": "python",
   "name": "python3"
  },
  "language_info": {
   "codemirror_mode": {
    "name": "ipython",
    "version": 3
   },
   "file_extension": ".py",
   "mimetype": "text/x-python",
   "name": "python",
   "nbconvert_exporter": "python",
   "pygments_lexer": "ipython3",
   "version": "3.11.7"
  }
 },
 "nbformat": 4,
 "nbformat_minor": 5
}
