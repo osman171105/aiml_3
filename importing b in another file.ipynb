{
 "cells": [
  {
   "cell_type": "code",
   "execution_count": 19,
   "id": "3976cf5f-e37c-4a69-a01d-febbe248dc23",
   "metadata": {},
   "outputs": [
    {
     "name": "stdout",
     "output_type": "stream",
     "text": [
      "Good morning sdf !\n"
     ]
    }
   ],
   "source": [
    "import b\n",
    "b.greet(\"sdf\")"
   ]
  },
  {
   "cell_type": "code",
   "execution_count": 21,
   "id": "f8830a6e-1dc2-49bb-80b9-0b7d606709e9",
   "metadata": {},
   "outputs": [
    {
     "data": {
      "text/plain": [
       "[814, 5578, 98, 4]"
      ]
     },
     "execution_count": 21,
     "metadata": {},
     "output_type": "execute_result"
    }
   ],
   "source": [
    "b.even([814,45,547,5578,98,4])"
   ]
  },
  {
   "cell_type": "code",
   "execution_count": 20,
   "id": "2cb335b8-4f77-4895-8f53-f7540d192d5a",
   "metadata": {},
   "outputs": [
    {
     "data": {
      "text/plain": [
       "24"
      ]
     },
     "execution_count": 20,
     "metadata": {},
     "output_type": "execute_result"
    }
   ],
   "source": [
    "b.d(2,3,4)"
   ]
  },
  {
   "cell_type": "code",
   "execution_count": null,
   "id": "41e5fec6-e296-4acc-a257-619a9babb101",
   "metadata": {},
   "outputs": [],
   "source": []
  }
 ],
 "metadata": {
  "kernelspec": {
   "display_name": "Python 3 (ipykernel)",
   "language": "python",
   "name": "python3"
  },
  "language_info": {
   "codemirror_mode": {
    "name": "ipython",
    "version": 3
   },
   "file_extension": ".py",
   "mimetype": "text/x-python",
   "name": "python",
   "nbconvert_exporter": "python",
   "pygments_lexer": "ipython3",
   "version": "3.11.7"
  }
 },
 "nbformat": 4,
 "nbformat_minor": 5
}
