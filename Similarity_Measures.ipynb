{
 "cells": [
  {
   "cell_type": "code",
   "execution_count": 1,
   "id": "19475241-77fb-470d-ae94-51e8d00d1f73",
   "metadata": {},
   "outputs": [],
   "source": [
    "import numpy as np\n",
    "from scipy.spatial.distance import cosine,euclidean\n",
    "from scipy.stats import pearsonr"
   ]
  },
  {
   "cell_type": "code",
   "execution_count": 3,
   "id": "aec2d5bc-1403-4521-ad4d-2e93e70c9d3d",
   "metadata": {},
   "outputs": [],
   "source": [
    "# Sample user rating data on a scale of 5\n",
    "u1 = np.array([4,5,2,3,4])\n",
    "u2 = np.array([5,3,2,4,5])"
   ]
  },
  {
   "cell_type": "code",
   "execution_count": 6,
   "id": "5aa80479-3bba-48bc-9299-a82234f95171",
   "metadata": {},
   "outputs": [
    {
     "name": "stdout",
     "output_type": "stream",
     "text": [
      "Cosine Similarity:0.9548\n"
     ]
    }
   ],
   "source": [
    "cosine_similarity =  1-cosine(u1,u2)\n",
    "print(f\"Cosine Similarity:{cosine_similarity:.4f}\")"
   ]
  },
  {
   "cell_type": "code",
   "execution_count": 10,
   "id": "4e505344-3503-49eb-898b-27b3d1738cf9",
   "metadata": {},
   "outputs": [
    {
     "name": "stdout",
     "output_type": "stream",
     "text": [
      "Pearson Coorelation Similarity:0.4372\n"
     ]
    }
   ],
   "source": [
    "pearson_corr,_=pearsonr(u1,u2)\n",
    "print(f\"Pearson Coorelation Similarity:{pearson_corr:.4f}\")"
   ]
  },
  {
   "cell_type": "code",
   "execution_count": 11,
   "id": "8fc26f36-81ba-4a4e-b373-efc1aaa888b2",
   "metadata": {},
   "outputs": [
    {
     "name": "stdout",
     "output_type": "stream",
     "text": [
      "Euclidean Dsitance Similarity:0.2743\n"
     ]
    }
   ],
   "source": [
    "euclidean_distance = euclidean(u1,u2)\n",
    "euclidean_similarity = 1/(1+euclidean_distance)\n",
    "print(f\"Euclidean Dsitance Similarity:{euclidean_similarity:.4f}\")"
   ]
  },
  {
   "cell_type": "markdown",
   "id": "a52b3051-64cc-4522-b518-cfc6cc2e3036",
   "metadata": {},
   "source": []
  },
  {
   "cell_type": "markdown",
   "id": "4a5c2f61-948f-4ed3-8026-3e780180b003",
   "metadata": {},
   "source": [
    "|              |  Bahubali   | Mufasa   |  Interstellar  | RRR   | Mrs |\n",
    "|--------------|-------------|----------|----------------|-------|-----|\n",
    "| Raju         |  5          |  3       |  4             |  4    |  2  |\n",
    "| John         |  3          |  1       |  2             |  3    |  3  |\n",
    "| Ramya        |  4          |  3       |  4             |  5    |  1  |\n",
    "| Kishore      |  2          |  2       |  1             |  2    |  4  |\n",
    "|--------------|-------------|----------|----------------|-------|-----|"
   ]
  },
  {
   "cell_type": "code",
   "execution_count": 14,
   "id": "9e6438b1-6962-4a5e-9023-3a11910b7537",
   "metadata": {},
   "outputs": [
    {
     "name": "stdout",
     "output_type": "stream",
     "text": [
      "         Bahubali  Mufasa  Interstellar  RRR  Mrs\n",
      "Raju            5       3             4    4    2\n",
      "John            3       1             2    3    3\n",
      "Ramya           4       3             4    5    1\n",
      "Kishore         2       2             1    2    4\n",
      "  User 1   User 2  Cosine Similarity  Pearson Correlation  \\\n",
      "0   Raju     John           0.929670             0.196116   \n",
      "1   Raju    Ramya           0.978337             0.838557   \n",
      "2   Raju  Kishore           0.799014            -0.720577   \n",
      "3   John    Ramya           0.885465             0.036860   \n",
      "4   John  Kishore           0.919145             0.408248   \n",
      "5  Ramya  Kishore           0.725961            -0.812605   \n",
      "\n",
      "   Euclidean Similarity  \n",
      "0              0.210897  \n",
      "1              0.366025  \n",
      "2              0.161390  \n",
      "3              0.195194  \n",
      "4              0.309017  \n",
      "5              0.150221  \n"
     ]
    }
   ],
   "source": [
    "import numpy as np\n",
    "import pandas as pd\n",
    "from scipy.spatial.distance import cosine, euclidean\n",
    "from scipy.stats import pearsonr\n",
    "\n",
    "#User-item rating matrix for 4 users\n",
    "ratings = np.array([\n",
    "    [5, 3, 4, 4, 2],  # User A\n",
    "    [3, 1, 2, 3, 3],  # User B\n",
    "    [4, 3, 4, 5, 1],  # User C\n",
    "    [2, 2, 1, 2, 4]   # User D\n",
    "])\n",
    "\n",
    "users = [\"Raju\", \"John\", \"Ramya\", \"Kishore\"]\n",
    "df = pd.DataFrame(ratings, index=users, columns=[\"Bahubali\",\"Mufasa\",\"Interstellar\",\"RRR\",\"Mrs\"])\n",
    "print(df)\n",
    "\n",
    "# Function to compute similarity\n",
    "def compute_similarity(df):\n",
    "    num_users = df.shape[0]\n",
    "    similarity_results = []\n",
    "\n",
    "    for i in range(num_users):\n",
    "        for j in range(i + 1, num_users):  # Avoid redundant pairs\n",
    "            user1, user2 = df.iloc[i], df.iloc[j]\n",
    "\n",
    "            # Cosine Similarity\n",
    "            cos_sim = 1 - cosine(user1, user2)\n",
    "\n",
    "            # Pearson Correlation Similarity\n",
    "            pearson_sim, _ = pearsonr(user1, user2)\n",
    "\n",
    "            # Euclidean Distance Similarity\n",
    "            euc_dist = euclidean(user1, user2)\n",
    "            euc_sim = 1 / (1 + euc_dist)  # Normalize to [0,1]\n",
    "\n",
    "            similarity_results.append([users[i], users[j], cos_sim, pearson_sim, euc_sim])\n",
    "\n",
    "    return pd.DataFrame(similarity_results, columns=[\"User 1\", \"User 2\", \"Cosine Similarity\", \"Pearson Correlation\", \"Euclidean Similarity\"])\n",
    "\n",
    "# Compute similarity matrix\n",
    "similarity_df = compute_similarity(df)\n",
    "\n",
    "# Display results\n",
    "print(similarity_df)"
   ]
  },
  {
   "cell_type": "code",
   "execution_count": null,
   "id": "f02c7df7-8640-4091-97de-66e8e1a47eb3",
   "metadata": {},
   "outputs": [],
   "source": []
  }
 ],
 "metadata": {
  "kernelspec": {
   "display_name": "Python 3 (ipykernel)",
   "language": "python",
   "name": "python3"
  },
  "language_info": {
   "codemirror_mode": {
    "name": "ipython",
    "version": 3
   },
   "file_extension": ".py",
   "mimetype": "text/x-python",
   "name": "python",
   "nbconvert_exporter": "python",
   "pygments_lexer": "ipython3",
   "version": "3.11.7"
  }
 },
 "nbformat": 4,
 "nbformat_minor": 5
}
